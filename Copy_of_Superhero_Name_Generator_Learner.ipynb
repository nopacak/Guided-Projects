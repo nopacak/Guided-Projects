{
  "cells": [
    {
      "cell_type": "markdown",
      "metadata": {
        "id": "21XXWP7Fpt2L"
      },
      "source": [
        "# Superhero (and Supervillain) Name Generator\n",
        "\n",
        "---\n",
        "\n",
        "[Superhero Names Dataset](https://github.com/am1tyadav/superhero)"
      ]
    },
    {
      "cell_type": "markdown",
      "metadata": {
        "id": "H6P0NU5Cpt2R"
      },
      "source": [
        "## Task 2\n",
        "\n",
        "1. Import the data\n",
        "2. Create a tokenizer\n",
        "3. Char to index and Index to char dictionaries"
      ]
    },
    {
      "cell_type": "code",
      "execution_count": 1,
      "metadata": {
        "colab": {
          "base_uri": "https://localhost:8080/"
        },
        "id": "srULhalZpt2M",
        "outputId": "f2b5484e-7cc1-4ff2-b4b2-0de6547e31f8"
      },
      "outputs": [
        {
          "output_type": "stream",
          "name": "stdout",
          "text": [
            "Cloning into 'superhero'...\n",
            "remote: Enumerating objects: 8, done.\u001b[K\n",
            "remote: Counting objects: 100% (8/8), done.\u001b[K\n",
            "remote: Compressing objects: 100% (7/7), done.\u001b[K\n",
            "remote: Total 8 (delta 0), reused 4 (delta 0), pack-reused 0\u001b[K\n",
            "Unpacking objects: 100% (8/8), done.\n"
          ]
        }
      ],
      "source": [
        "#download the dataset\n",
        "!git clone https://github.com/am1tyadav/superhero"
      ]
    },
    {
      "cell_type": "code",
      "execution_count": 2,
      "metadata": {
        "colab": {
          "base_uri": "https://localhost:8080/",
          "height": 53
        },
        "id": "uq4CLmsLpt2P",
        "outputId": "e9e8e83d-e599-4f2f-dddb-2c02917258b2"
      },
      "outputs": [
        {
          "output_type": "execute_result",
          "data": {
            "text/plain": [
              "'jumpa\\t\\ndoctor fate\\t\\nstarlight\\t\\nisildur\\t\\nlasher\\t\\nvarvara\\t\\nthe target\\t\\naxel\\t\\nbattra\\t\\nchangeling\\t\\npyrrh'"
            ],
            "application/vnd.google.colaboratory.intrinsic+json": {
              "type": "string"
            }
          },
          "metadata": {},
          "execution_count": 2
        }
      ],
      "source": [
        "#open downloaded text file and read it\n",
        "with open('superhero/superheroes.txt', 'r') as f:\n",
        "  data = f.read()\n",
        "\n",
        "data[:100] "
      ]
    },
    {
      "cell_type": "code",
      "execution_count": 3,
      "metadata": {
        "colab": {
          "base_uri": "https://localhost:8080/"
        },
        "id": "JqhtLuAHpt2R",
        "outputId": "ef451622-eef6-4f8a-b95e-15d0c97236b0"
      },
      "outputs": [
        {
          "output_type": "stream",
          "name": "stdout",
          "text": [
            "2.8.2\n"
          ]
        }
      ],
      "source": [
        "#import tensorflow and print its current version\n",
        "\n",
        "import tensorflow as tf\n",
        "\n",
        "print(tf.__version__)"
      ]
    },
    {
      "cell_type": "code",
      "execution_count": 4,
      "metadata": {
        "id": "95Lo1Yqzpt2T"
      },
      "outputs": [],
      "source": [
        "#instantiate the tokenizer \n",
        "tokenizer = tf.keras.preprocessing.text.Tokenizer(\n",
        "    filters='!\"#$%&()*+,-./:;<=>?@[\\\\]^_`{|}~',\n",
        "    split='\\n',\n",
        ")"
      ]
    },
    {
      "cell_type": "code",
      "execution_count": 5,
      "metadata": {
        "id": "qYfC4sj2pt2V"
      },
      "outputs": [],
      "source": [
        "#fit the tokenizer on the text\n",
        "\n",
        "tokenizer.fit_on_texts(data)"
      ]
    },
    {
      "cell_type": "code",
      "execution_count": 6,
      "metadata": {
        "colab": {
          "base_uri": "https://localhost:8080/"
        },
        "id": "EO4-dPM6pt2X",
        "outputId": "e98ad850-0e5e-4865-8c96-cd3e4275607e"
      },
      "outputs": [
        {
          "output_type": "stream",
          "name": "stdout",
          "text": [
            "{1: '\\t', 2: 'a', 3: 'e', 4: 'r', 5: 'o', 6: 'n', 7: 'i', 8: ' ', 9: 't', 10: 's', 11: 'l', 12: 'm', 13: 'h', 14: 'd', 15: 'c', 16: 'u', 17: 'g', 18: 'k', 19: 'b', 20: 'p', 21: 'y', 22: 'w', 23: 'f', 24: 'v', 25: 'j', 26: 'z', 27: 'x', 28: 'q'}\n"
          ]
        }
      ],
      "source": [
        "#create dictionary of indexed characters\n",
        "\n",
        "char_to_index = tokenizer.word_index\n",
        "index_to_char = dict((v, k) for k, v in char_to_index.items())\n",
        "\n",
        "print(index_to_char)"
      ]
    },
    {
      "cell_type": "markdown",
      "metadata": {
        "id": "SMwtIw_Bpt2Z"
      },
      "source": [
        "## Task 3\n",
        "\n",
        "1. Converting between names and sequences"
      ]
    },
    {
      "cell_type": "code",
      "execution_count": 7,
      "metadata": {
        "colab": {
          "base_uri": "https://localhost:8080/"
        },
        "id": "N7iQLIXzpt2a",
        "outputId": "343676a3-5185-4912-ca03-a51d9b3b9ff8"
      },
      "outputs": [
        {
          "output_type": "execute_result",
          "data": {
            "text/plain": [
              "['jumpa\\t',\n",
              " 'doctor fate\\t',\n",
              " 'starlight\\t',\n",
              " 'isildur\\t',\n",
              " 'lasher\\t',\n",
              " 'varvara\\t',\n",
              " 'the target\\t',\n",
              " 'axel\\t',\n",
              " 'battra\\t',\n",
              " 'changeling\\t']"
            ]
          },
          "metadata": {},
          "execution_count": 7
        }
      ],
      "source": [
        "#print out first 10 names in the dataset\n",
        "names = data.splitlines()  #splits the dataset by \\n\n",
        "names[:10]"
      ]
    },
    {
      "cell_type": "code",
      "execution_count": 8,
      "metadata": {
        "colab": {
          "base_uri": "https://localhost:8080/"
        },
        "id": "n_-TTfqipt2c",
        "outputId": "b03666f6-717b-4a71-ba88-164b7b77740f"
      },
      "outputs": [
        {
          "output_type": "execute_result",
          "data": {
            "text/plain": [
              "[[25], [16], [12], [20], [2], [1]]"
            ]
          },
          "metadata": {},
          "execution_count": 8
        }
      ],
      "source": [
        "#create character sequence\n",
        "tokenizer.texts_to_sequences(names[0])  "
      ]
    },
    {
      "cell_type": "code",
      "execution_count": 9,
      "metadata": {
        "id": "P6IsKH1Upt2e"
      },
      "outputs": [],
      "source": [
        "#define name_to_seq function\n",
        "\n",
        "def name_to_seq(name):\n",
        "  return [tokenizer.texts_to_sequences(c)[0][0]for c in name]\n"
      ]
    },
    {
      "cell_type": "code",
      "execution_count": 10,
      "metadata": {
        "colab": {
          "base_uri": "https://localhost:8080/"
        },
        "id": "TuLUiMP3pt2g",
        "outputId": "526af5ce-8eaf-446d-9a64-e12e8e319caa"
      },
      "outputs": [
        {
          "output_type": "execute_result",
          "data": {
            "text/plain": [
              "[25, 16, 12, 20, 2, 1]"
            ]
          },
          "metadata": {},
          "execution_count": 10
        }
      ],
      "source": [
        "#test the function\n",
        "name_to_seq(names[0])"
      ]
    },
    {
      "cell_type": "code",
      "execution_count": 11,
      "metadata": {
        "id": "yFUYhimKpt2h"
      },
      "outputs": [],
      "source": [
        "#define name_to_seq function\n",
        "def seq_to_name(seq):\n",
        "  return ''.join([ index_to_char[i] for i in seq if i != 0])"
      ]
    },
    {
      "cell_type": "code",
      "execution_count": 12,
      "metadata": {
        "colab": {
          "base_uri": "https://localhost:8080/",
          "height": 36
        },
        "id": "ROhCqmhLpt2k",
        "outputId": "5190473a-506d-4912-91f5-65745ab5562c"
      },
      "outputs": [
        {
          "output_type": "execute_result",
          "data": {
            "text/plain": [
              "'jumpa\\t'"
            ],
            "application/vnd.google.colaboratory.intrinsic+json": {
              "type": "string"
            }
          },
          "metadata": {},
          "execution_count": 12
        }
      ],
      "source": [
        "#test the function\n",
        "seq_to_name(name_to_seq(names[0]))"
      ]
    },
    {
      "cell_type": "markdown",
      "metadata": {
        "id": "uCbAzsNjpt2m"
      },
      "source": [
        "## Task 4\n",
        "\n",
        "1. Creating sequences\n",
        "2. Padding all sequences"
      ]
    },
    {
      "cell_type": "code",
      "execution_count": 13,
      "metadata": {
        "id": "zstNn-0dpt2m"
      },
      "outputs": [],
      "source": [
        "#create sequences\n",
        "sequences = []\n",
        "\n",
        "for name in names:\n",
        "  seq = name_to_seq(name)\n",
        "  if len(seq) >= 2:\n",
        "    sequences += [seq[:i] for i in range(2, len(seq) + 1 )]"
      ]
    },
    {
      "cell_type": "code",
      "execution_count": 14,
      "metadata": {
        "colab": {
          "base_uri": "https://localhost:8080/"
        },
        "id": "BjRTMysvpt2o",
        "outputId": "42613590-0eb2-42af-83d1-b3a47cef45ef"
      },
      "outputs": [
        {
          "output_type": "execute_result",
          "data": {
            "text/plain": [
              "[[25, 16],\n",
              " [25, 16, 12],\n",
              " [25, 16, 12, 20],\n",
              " [25, 16, 12, 20, 2],\n",
              " [25, 16, 12, 20, 2, 1],\n",
              " [14, 5],\n",
              " [14, 5, 15],\n",
              " [14, 5, 15, 9],\n",
              " [14, 5, 15, 9, 5],\n",
              " [14, 5, 15, 9, 5, 4]]"
            ]
          },
          "metadata": {},
          "execution_count": 14
        }
      ],
      "source": [
        "sequences[:10]  #print out first 10 sequences"
      ]
    },
    {
      "cell_type": "code",
      "execution_count": 15,
      "metadata": {
        "colab": {
          "base_uri": "https://localhost:8080/"
        },
        "id": "SR68pu2tpt2q",
        "outputId": "69472649-463d-43a3-ee45-aeb1a10ced83"
      },
      "outputs": [
        {
          "output_type": "stream",
          "name": "stdout",
          "text": [
            "33\n"
          ]
        }
      ],
      "source": [
        "#print out the maximum character lenght in the dataset\n",
        "max_len = max([len(x) for x in sequences])\n",
        "print(max_len)"
      ]
    },
    {
      "cell_type": "code",
      "execution_count": 16,
      "metadata": {
        "colab": {
          "base_uri": "https://localhost:8080/"
        },
        "id": "h_1BtWO7pt2r",
        "outputId": "08db49b3-5694-424a-a0ac-de4c9f12f11f"
      },
      "outputs": [
        {
          "output_type": "stream",
          "name": "stdout",
          "text": [
            "[ 0  0  0  0  0  0  0  0  0  0  0  0  0  0  0  0  0  0  0  0  0  0  0  0\n",
            "  0  0  0  0  0  0  0 25 16]\n"
          ]
        }
      ],
      "source": [
        "#pad the sequences\n",
        "padded_sequences = tf.keras.preprocessing.sequence.pad_sequences(\n",
        "    sequences, maxlen = max_len\n",
        ")\n",
        "\n",
        "print(padded_sequences[0])"
      ]
    },
    {
      "cell_type": "code",
      "execution_count": 17,
      "metadata": {
        "colab": {
          "base_uri": "https://localhost:8080/"
        },
        "id": "sPlrLRpSpt2t",
        "outputId": "2a045d57-4d67-47c9-8218-52497a8f754f"
      },
      "outputs": [
        {
          "output_type": "execute_result",
          "data": {
            "text/plain": [
              "(88279, 33)"
            ]
          },
          "metadata": {},
          "execution_count": 17
        }
      ],
      "source": [
        "padded_sequences.shape"
      ]
    },
    {
      "cell_type": "markdown",
      "metadata": {
        "id": "71eexIpPfcjI"
      },
      "source": [
        "## Task 5: Creating Training and Validation Sets\n",
        "\n",
        "1. Creating training and validation sets"
      ]
    },
    {
      "cell_type": "code",
      "execution_count": 18,
      "metadata": {
        "colab": {
          "base_uri": "https://localhost:8080/"
        },
        "id": "BE4BIeSnpt2v",
        "outputId": "891d50d6-49ad-44cf-c305-db2515e320a0"
      },
      "outputs": [
        {
          "output_type": "stream",
          "name": "stdout",
          "text": [
            "(88279, 32) (88279,)\n"
          ]
        }
      ],
      "source": [
        "#split the dataset in examples(x) and labels(y)\n",
        "x, y = padded_sequences[:, :-1], padded_sequences[:, -1] \n",
        "                                                  \n",
        "print(x.shape, y.shape)"
      ]
    },
    {
      "cell_type": "code",
      "execution_count": 19,
      "metadata": {
        "id": "HHjr3OeQfcjI",
        "outputId": "4bf07545-1ebe-4de6-8fe4-8540c7023cc2",
        "colab": {
          "base_uri": "https://localhost:8080/"
        }
      },
      "outputs": [
        {
          "output_type": "stream",
          "name": "stdout",
          "text": [
            "(66209, 32) (66209,) (22070, 32) (22070,)\n"
          ]
        }
      ],
      "source": [
        "#split the data in train and test\n",
        "\n",
        "from sklearn.model_selection import train_test_split\n",
        "\n",
        "x_train, x_test, y_train, y_test = train_test_split(x,y)\n",
        "\n",
        "print(x_train.shape, y_train.shape, x_test.shape, y_test.shape)"
      ]
    },
    {
      "cell_type": "code",
      "execution_count": 20,
      "metadata": {
        "colab": {
          "base_uri": "https://localhost:8080/"
        },
        "id": "cgqRZtqnpt2x",
        "outputId": "fa5cf97d-9800-4201-86b8-9092ee9d1f9a"
      },
      "outputs": [
        {
          "output_type": "stream",
          "name": "stdout",
          "text": [
            "29\n"
          ]
        }
      ],
      "source": [
        "#print out the number of characters in the dictionary\n",
        "num_chars = len(char_to_index.keys()) + 1\n",
        "print(num_chars)"
      ]
    },
    {
      "cell_type": "markdown",
      "metadata": {
        "id": "9QwBTptrfcjJ"
      },
      "source": [
        "## Task 6: Creating the Model"
      ]
    },
    {
      "cell_type": "code",
      "execution_count": 21,
      "metadata": {
        "id": "0QC8re5qfcjJ",
        "outputId": "c73e5930-2636-4b25-899b-bbe2895f61fa",
        "colab": {
          "base_uri": "https://localhost:8080/"
        }
      },
      "outputs": [
        {
          "output_type": "stream",
          "name": "stdout",
          "text": [
            "Model: \"sequential\"\n",
            "_________________________________________________________________\n",
            " Layer (type)                Output Shape              Param #   \n",
            "=================================================================\n",
            " embedding (Embedding)       (None, 32, 8)             232       \n",
            "                                                                 \n",
            " conv1d (Conv1D)             (None, 32, 64)            2624      \n",
            "                                                                 \n",
            " max_pooling1d (MaxPooling1D  (None, 16, 64)           0         \n",
            " )                                                               \n",
            "                                                                 \n",
            " lstm (LSTM)                 (None, 32)                12416     \n",
            "                                                                 \n",
            " dense (Dense)               (None, 29)                957       \n",
            "                                                                 \n",
            "=================================================================\n",
            "Total params: 16,229\n",
            "Trainable params: 16,229\n",
            "Non-trainable params: 0\n",
            "_________________________________________________________________\n"
          ]
        }
      ],
      "source": [
        "#creating the model\n",
        "\n",
        "from tensorflow.keras.models import Sequential\n",
        "from tensorflow.keras.layers import Embedding, Conv1D, MaxPool1D, LSTM, Bidirectional, Dense\n",
        "\n",
        "model = Sequential([\n",
        "                    Embedding(num_chars, 8, input_length = max_len-1),\n",
        "                    Conv1D(64, 5, strides = 1, activation = 'tanh', padding = 'causal'),\n",
        "                    MaxPool1D(2),\n",
        "                    LSTM(32),\n",
        "                    Dense(num_chars, activation = 'softmax')\n",
        "])\n",
        "\n",
        "model.compile(\n",
        "    loss = 'sparse_categorical_crossentropy',\n",
        "    optimizer = 'adam',\n",
        "    metrics = ['accuracy']\n",
        ")\n",
        "\n",
        "model.summary()"
      ]
    },
    {
      "cell_type": "markdown",
      "metadata": {
        "id": "tX09qmnQfcjJ"
      },
      "source": [
        "## Task 7: Training the Model"
      ]
    },
    {
      "cell_type": "code",
      "execution_count": 22,
      "metadata": {
        "colab": {
          "base_uri": "https://localhost:8080/"
        },
        "id": "j0Ssl4qupt22",
        "outputId": "58b48079-22bf-45ea-bce2-3e02912a8d27"
      },
      "outputs": [
        {
          "output_type": "stream",
          "name": "stdout",
          "text": [
            "Epoch 1/50\n",
            "2070/2070 - 25s - loss: 2.7292 - accuracy: 0.1912 - val_loss: 2.5944 - val_accuracy: 0.2188 - 25s/epoch - 12ms/step\n",
            "Epoch 2/50\n",
            "2070/2070 - 11s - loss: 2.5352 - accuracy: 0.2362 - val_loss: 2.5077 - val_accuracy: 0.2504 - 11s/epoch - 5ms/step\n",
            "Epoch 3/50\n",
            "2070/2070 - 11s - loss: 2.4707 - accuracy: 0.2549 - val_loss: 2.4599 - val_accuracy: 0.2570 - 11s/epoch - 5ms/step\n",
            "Epoch 4/50\n",
            "2070/2070 - 11s - loss: 2.4310 - accuracy: 0.2627 - val_loss: 2.4341 - val_accuracy: 0.2648 - 11s/epoch - 5ms/step\n",
            "Epoch 5/50\n",
            "2070/2070 - 10s - loss: 2.3980 - accuracy: 0.2698 - val_loss: 2.4013 - val_accuracy: 0.2720 - 10s/epoch - 5ms/step\n",
            "Epoch 6/50\n",
            "2070/2070 - 10s - loss: 2.3664 - accuracy: 0.2813 - val_loss: 2.3807 - val_accuracy: 0.2792 - 10s/epoch - 5ms/step\n",
            "Epoch 7/50\n",
            "2070/2070 - 11s - loss: 2.3403 - accuracy: 0.2894 - val_loss: 2.3598 - val_accuracy: 0.2864 - 11s/epoch - 5ms/step\n",
            "Epoch 8/50\n",
            "2070/2070 - 11s - loss: 2.3161 - accuracy: 0.2963 - val_loss: 2.3469 - val_accuracy: 0.2933 - 11s/epoch - 5ms/step\n",
            "Epoch 9/50\n",
            "2070/2070 - 11s - loss: 2.2940 - accuracy: 0.3048 - val_loss: 2.3315 - val_accuracy: 0.2952 - 11s/epoch - 5ms/step\n",
            "Epoch 10/50\n",
            "2070/2070 - 10s - loss: 2.2730 - accuracy: 0.3103 - val_loss: 2.3169 - val_accuracy: 0.3029 - 10s/epoch - 5ms/step\n",
            "Epoch 11/50\n",
            "2070/2070 - 11s - loss: 2.2535 - accuracy: 0.3154 - val_loss: 2.2992 - val_accuracy: 0.3086 - 11s/epoch - 5ms/step\n",
            "Epoch 12/50\n",
            "2070/2070 - 10s - loss: 2.2344 - accuracy: 0.3217 - val_loss: 2.2941 - val_accuracy: 0.3103 - 10s/epoch - 5ms/step\n",
            "Epoch 13/50\n",
            "2070/2070 - 11s - loss: 2.2185 - accuracy: 0.3268 - val_loss: 2.2836 - val_accuracy: 0.3114 - 11s/epoch - 5ms/step\n",
            "Epoch 14/50\n",
            "2070/2070 - 10s - loss: 2.2020 - accuracy: 0.3323 - val_loss: 2.2765 - val_accuracy: 0.3194 - 10s/epoch - 5ms/step\n",
            "Epoch 15/50\n",
            "2070/2070 - 10s - loss: 2.1877 - accuracy: 0.3381 - val_loss: 2.2694 - val_accuracy: 0.3193 - 10s/epoch - 5ms/step\n",
            "Epoch 16/50\n",
            "2070/2070 - 10s - loss: 2.1734 - accuracy: 0.3420 - val_loss: 2.2599 - val_accuracy: 0.3221 - 10s/epoch - 5ms/step\n",
            "Epoch 17/50\n",
            "2070/2070 - 10s - loss: 2.1597 - accuracy: 0.3477 - val_loss: 2.2555 - val_accuracy: 0.3255 - 10s/epoch - 5ms/step\n",
            "Epoch 18/50\n",
            "2070/2070 - 11s - loss: 2.1485 - accuracy: 0.3501 - val_loss: 2.2508 - val_accuracy: 0.3235 - 11s/epoch - 5ms/step\n",
            "Epoch 19/50\n",
            "2070/2070 - 11s - loss: 2.1365 - accuracy: 0.3543 - val_loss: 2.2404 - val_accuracy: 0.3271 - 11s/epoch - 5ms/step\n",
            "Epoch 20/50\n",
            "2070/2070 - 10s - loss: 2.1256 - accuracy: 0.3585 - val_loss: 2.2401 - val_accuracy: 0.3308 - 10s/epoch - 5ms/step\n",
            "Epoch 21/50\n",
            "2070/2070 - 11s - loss: 2.1152 - accuracy: 0.3625 - val_loss: 2.2403 - val_accuracy: 0.3339 - 11s/epoch - 5ms/step\n",
            "Epoch 22/50\n",
            "2070/2070 - 10s - loss: 2.1072 - accuracy: 0.3649 - val_loss: 2.2296 - val_accuracy: 0.3375 - 10s/epoch - 5ms/step\n",
            "Epoch 23/50\n",
            "2070/2070 - 10s - loss: 2.0974 - accuracy: 0.3661 - val_loss: 2.2243 - val_accuracy: 0.3420 - 10s/epoch - 5ms/step\n",
            "Epoch 24/50\n",
            "2070/2070 - 10s - loss: 2.0885 - accuracy: 0.3698 - val_loss: 2.2273 - val_accuracy: 0.3391 - 10s/epoch - 5ms/step\n",
            "Epoch 25/50\n",
            "2070/2070 - 10s - loss: 2.0811 - accuracy: 0.3729 - val_loss: 2.2232 - val_accuracy: 0.3398 - 10s/epoch - 5ms/step\n",
            "Epoch 26/50\n",
            "2070/2070 - 11s - loss: 2.0727 - accuracy: 0.3753 - val_loss: 2.2172 - val_accuracy: 0.3429 - 11s/epoch - 5ms/step\n",
            "Epoch 27/50\n",
            "2070/2070 - 11s - loss: 2.0657 - accuracy: 0.3769 - val_loss: 2.2168 - val_accuracy: 0.3449 - 11s/epoch - 5ms/step\n",
            "Epoch 28/50\n",
            "2070/2070 - 10s - loss: 2.0580 - accuracy: 0.3788 - val_loss: 2.2166 - val_accuracy: 0.3451 - 10s/epoch - 5ms/step\n",
            "Epoch 29/50\n",
            "2070/2070 - 10s - loss: 2.0524 - accuracy: 0.3807 - val_loss: 2.2189 - val_accuracy: 0.3436 - 10s/epoch - 5ms/step\n",
            "Epoch 30/50\n",
            "2070/2070 - 10s - loss: 2.0460 - accuracy: 0.3830 - val_loss: 2.2169 - val_accuracy: 0.3454 - 10s/epoch - 5ms/step\n",
            "Epoch 31/50\n",
            "2070/2070 - 11s - loss: 2.0398 - accuracy: 0.3836 - val_loss: 2.2169 - val_accuracy: 0.3486 - 11s/epoch - 5ms/step\n",
            "Epoch 32/50\n",
            "2070/2070 - 10s - loss: 2.0338 - accuracy: 0.3867 - val_loss: 2.2149 - val_accuracy: 0.3506 - 10s/epoch - 5ms/step\n",
            "Epoch 33/50\n",
            "2070/2070 - 11s - loss: 2.0290 - accuracy: 0.3893 - val_loss: 2.2165 - val_accuracy: 0.3479 - 11s/epoch - 5ms/step\n",
            "Epoch 34/50\n",
            "2070/2070 - 11s - loss: 2.0231 - accuracy: 0.3905 - val_loss: 2.2118 - val_accuracy: 0.3479 - 11s/epoch - 5ms/step\n",
            "Epoch 35/50\n",
            "2070/2070 - 10s - loss: 2.0183 - accuracy: 0.3912 - val_loss: 2.2103 - val_accuracy: 0.3502 - 10s/epoch - 5ms/step\n"
          ]
        }
      ],
      "source": [
        "#train the model\n",
        "\n",
        "h = model.fit(x_train, y_train,\n",
        "          validation_data = (x_test, y_test),\n",
        "          epochs = 50, verbose = 2,\n",
        "          callbacks = [tf.keras.callbacks.EarlyStopping(monitor = 'val_accuracy', patience = 3)])"
      ]
    },
    {
      "cell_type": "code",
      "source": [
        "#visualize the trained model\n",
        "from matplotlib import pyplot as plt\n",
        "\n",
        "epochs_ran = len(h.history['loss'])\n",
        "\n",
        "plt.plot(range(0, epochs_ran), h.history['val_accuracy'], label = 'Validation')\n",
        "plt.plot(range(0, epochs_ran), h.history['accuracy'], label = 'Training')\n",
        "plt.legend()\n",
        "plt.show()"
      ],
      "metadata": {
        "id": "GpvnskmXr3Uq",
        "outputId": "33651131-aa64-4c63-ee53-416d22aaf8e1",
        "colab": {
          "base_uri": "https://localhost:8080/",
          "height": 268
        }
      },
      "execution_count": 23,
      "outputs": [
        {
          "output_type": "display_data",
          "data": {
            "text/plain": [
              "<Figure size 432x288 with 1 Axes>"
            ],
            "image/png": "[encoded data removed]"
          },
          "metadata": {
            "needs_background": "light"
          }
        }
      ]
    },
    {
      "cell_type": "markdown",
      "metadata": {
        "id": "Zy1F2Yn4fcjJ"
      },
      "source": [
        "## Task 8: Generate Names!"
      ]
    },
    {
      "cell_type": "code",
      "execution_count": 24,
      "metadata": {
        "id": "9f50aTRcpt24"
      },
      "outputs": [],
      "source": [
        "def generate_names(seed):\n",
        "  for i in range(0, 40):\n",
        "    seq = name_to_seq(seed)\n",
        "    padded = tf.keras.preprocessing.sequence.pad_sequences([seq], maxlen = max_len - 1)\n",
        "    \n",
        "    pred = model.predict(padded)[0]\n",
        "    pred_char = index_to_char[tf.argmax(pred).numpy()]\n",
        "    seed += pred_char\n",
        "\n",
        "    if pred_char == '\\t':\n",
        "      break\n",
        "  print(seed)\n"
      ]
    },
    {
      "cell_type": "code",
      "execution_count": 27,
      "metadata": {
        "colab": {
          "base_uri": "https://localhost:8080/"
        },
        "id": "faQ0FInlpt26",
        "outputId": "8c20b0df-c915-4c90-d61a-1c10da984413"
      },
      "outputs": [
        {
          "output_type": "stream",
          "name": "stdout",
          "text": [
            "jack the bornon\t\n"
          ]
        }
      ],
      "source": [
        "generate_names('j')"
      ]
    },
    {
      "cell_type": "code",
      "source": [
        ""
      ],
      "metadata": {
        "id": "UjLzAJKGvFXL"
      },
      "execution_count": null,
      "outputs": []
    }
  ],
  "metadata": {
    "accelerator": "GPU",
    "colab": {
      "collapsed_sections": [],
      "name": "Copy of Superhero Name Generator - Learner.ipynb",
      "provenance": []
    },
    "kernelspec": {
      "display_name": "Python 3",
      "language": "python",
      "name": "python3"
    },
    "language_info": {
      "codemirror_mode": {
        "name": "ipython",
        "version": 3
      },
      "file_extension": ".py",
      "mimetype": "text/x-python",
      "name": "python",
      "nbconvert_exporter": "python",
      "pygments_lexer": "ipython3",
      "version": "3.8.3"
    }
  },
  "nbformat": 4,
  "nbformat_minor": 0
}